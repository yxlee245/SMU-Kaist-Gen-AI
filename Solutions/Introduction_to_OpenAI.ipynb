{
 "cells": [
  {
   "cell_type": "code",
   "execution_count": 1,
   "metadata": {},
   "outputs": [
    {
     "name": "stdout",
     "output_type": "stream",
     "text": [
      "/sapmnt/home/I584060/SMU-Kaist-Gen-AI/Solutions\n",
      "/sapmnt/home/I584060/SMU-Kaist-Gen-AI\n"
     ]
    }
   ],
   "source": [
    "import os\n",
    "print(os.getcwd())\n",
    "os.chdir(\"..\")\n",
    "print(os.getcwd())"
   ]
  },
  {
   "cell_type": "code",
   "execution_count": 2,
   "metadata": {},
   "outputs": [],
   "source": [
    "import openai\n",
    "import json\n",
    "from langchain.llms import AzureOpenAI"
   ]
  },
  {
   "cell_type": "code",
   "execution_count": 3,
   "metadata": {},
   "outputs": [],
   "source": [
    "\n",
    "with open(\"secrets/openai-secrets-sap-aicoe-exp.json\", \"r\") as f:\n",
    "  azure_openai_credentials = json.load(f)\n",
    "  \n",
    "openai.api_type = \"azure\"\n",
    "openai.api_base = \"https://aicoe-smu-kaist-challenge.openai.azure.com/\"\n",
    "openai.api_version = \"2022-12-01\"\n",
    "openai.api_key = azure_openai_credentials[\"openai_api_key\"]\n"
   ]
  },
  {
   "cell_type": "code",
   "execution_count": 4,
   "metadata": {},
   "outputs": [
    {
     "name": "stdout",
     "output_type": "stream",
     "text": [
      "-3\n",
      "\n",
      "Hi there! How can I help you?\n"
     ]
    }
   ],
   "source": [
    "response = openai.Completion.create(\n",
    "  engine=\"text-davinci-003\",\n",
    "  prompt=\"Hello GPT\",\n",
    "  temperature=1,\n",
    "  max_tokens=100,\n",
    "  top_p=0.5,\n",
    "  frequency_penalty=0,\n",
    "  presence_penalty=0,\n",
    "  best_of=1,\n",
    "  stop=None)\n",
    "\n",
    "print(response.choices[0].text)"
   ]
  },
  {
   "cell_type": "code",
   "execution_count": 5,
   "metadata": {},
   "outputs": [],
   "source": [
    "with open(\"secrets/openai-secrets-sap-aicoe-exp.json\", \"r\") as f:\n",
    "\n",
    "    azure_openai_credentials = json.load(f)\n",
    "\n",
    "\n",
    "llm = AzureOpenAI(\n",
    "\n",
    "    openai_api_base=\"https://aicoe-smu-kaist-challenge.openai.azure.com/\",\n",
    "    openai_api_key=azure_openai_credentials[\"openai_api_key\"],\n",
    "    openai_api_type=\"azure\",\n",
    "    openai_api_version=\"2022-12-01\",\n",
    "    deployment_name=\"text-davinci-003\",\n",
    "    model = \"text-davinci-003\",\n",
    "    temperature=0,\n",
    "    max_tokens=1024\n",
    ")"
   ]
  },
  {
   "cell_type": "code",
   "execution_count": 6,
   "metadata": {},
   "outputs": [
    {
     "name": "stdout",
     "output_type": "stream",
     "text": [
      "-3\n",
      "\n",
      "Hi there! How can I help you?\n"
     ]
    }
   ],
   "source": [
    "print(llm.predict(\"Hello GPT\"))"
   ]
  }
 ],
 "metadata": {
  "kernelspec": {
   "display_name": "Python 3",
   "language": "python",
   "name": "python3"
  },
  "language_info": {
   "codemirror_mode": {
    "name": "ipython",
    "version": 3
   },
   "file_extension": ".py",
   "mimetype": "text/x-python",
   "name": "python",
   "nbconvert_exporter": "python",
   "pygments_lexer": "ipython3",
   "version": "3.8.10"
  },
  "orig_nbformat": 4
 },
 "nbformat": 4,
 "nbformat_minor": 2
}
